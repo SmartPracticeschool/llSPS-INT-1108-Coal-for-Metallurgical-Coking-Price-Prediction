{
 "cells": [
  {
   "cell_type": "code",
   "execution_count": 1,
   "metadata": {},
   "outputs": [],
   "source": [
    "import os"
   ]
  },
  {
   "cell_type": "markdown",
   "metadata": {},
   "source": [
    "# Importing Packages"
   ]
  },
  {
   "cell_type": "code",
   "execution_count": 2,
   "metadata": {},
   "outputs": [],
   "source": [
    "import numpy as np\n",
    "import pandas as pd\n",
    "import matplotlib.pyplot as plt\n",
    "%matplotlib inline"
   ]
  },
  {
   "cell_type": "markdown",
   "metadata": {},
   "source": [
    "# Importing Dataset"
   ]
  },
  {
   "cell_type": "code",
   "execution_count": 3,
   "metadata": {},
   "outputs": [],
   "source": [
    "data=pd.read_csv(\"Coal_price.csv\")"
   ]
  },
  {
   "cell_type": "code",
   "execution_count": 4,
   "metadata": {},
   "outputs": [
    {
     "data": {
      "text/html": [
       "<div>\n",
       "<style scoped>\n",
       "    .dataframe tbody tr th:only-of-type {\n",
       "        vertical-align: middle;\n",
       "    }\n",
       "\n",
       "    .dataframe tbody tr th {\n",
       "        vertical-align: top;\n",
       "    }\n",
       "\n",
       "    .dataframe thead th {\n",
       "        text-align: right;\n",
       "    }\n",
       "</style>\n",
       "<table border=\"1\" class=\"dataframe\">\n",
       "  <thead>\n",
       "    <tr style=\"text-align: right;\">\n",
       "      <th></th>\n",
       "      <th>season</th>\n",
       "      <th>month</th>\n",
       "      <th>temp</th>\n",
       "      <th>atemp</th>\n",
       "      <th>humidity</th>\n",
       "      <th>windspeed</th>\n",
       "      <th>price</th>\n",
       "    </tr>\n",
       "  </thead>\n",
       "  <tbody>\n",
       "    <tr>\n",
       "      <th>0</th>\n",
       "      <td>1</td>\n",
       "      <td>1</td>\n",
       "      <td>0.344167</td>\n",
       "      <td>0.363625</td>\n",
       "      <td>0.805833</td>\n",
       "      <td>0.160446</td>\n",
       "      <td>17000</td>\n",
       "    </tr>\n",
       "    <tr>\n",
       "      <th>1</th>\n",
       "      <td>1</td>\n",
       "      <td>1</td>\n",
       "      <td>0.363478</td>\n",
       "      <td>0.353739</td>\n",
       "      <td>0.696087</td>\n",
       "      <td>0.248539</td>\n",
       "      <td>11856</td>\n",
       "    </tr>\n",
       "    <tr>\n",
       "      <th>2</th>\n",
       "      <td>1</td>\n",
       "      <td>1</td>\n",
       "      <td>0.196364</td>\n",
       "      <td>0.189405</td>\n",
       "      <td>0.437273</td>\n",
       "      <td>0.248309</td>\n",
       "      <td>12315</td>\n",
       "    </tr>\n",
       "    <tr>\n",
       "      <th>3</th>\n",
       "      <td>1</td>\n",
       "      <td>1</td>\n",
       "      <td>0.200000</td>\n",
       "      <td>0.212122</td>\n",
       "      <td>0.590435</td>\n",
       "      <td>0.160296</td>\n",
       "      <td>16000</td>\n",
       "    </tr>\n",
       "    <tr>\n",
       "      <th>4</th>\n",
       "      <td>1</td>\n",
       "      <td>1</td>\n",
       "      <td>0.226957</td>\n",
       "      <td>0.229270</td>\n",
       "      <td>0.436957</td>\n",
       "      <td>0.186900</td>\n",
       "      <td>15000</td>\n",
       "    </tr>\n",
       "    <tr>\n",
       "      <th>...</th>\n",
       "      <td>...</td>\n",
       "      <td>...</td>\n",
       "      <td>...</td>\n",
       "      <td>...</td>\n",
       "      <td>...</td>\n",
       "      <td>...</td>\n",
       "      <td>...</td>\n",
       "    </tr>\n",
       "    <tr>\n",
       "      <th>726</th>\n",
       "      <td>1</td>\n",
       "      <td>12</td>\n",
       "      <td>0.254167</td>\n",
       "      <td>0.226642</td>\n",
       "      <td>0.652917</td>\n",
       "      <td>0.350133</td>\n",
       "      <td>11500</td>\n",
       "    </tr>\n",
       "    <tr>\n",
       "      <th>727</th>\n",
       "      <td>1</td>\n",
       "      <td>12</td>\n",
       "      <td>0.253333</td>\n",
       "      <td>0.255046</td>\n",
       "      <td>0.590000</td>\n",
       "      <td>0.155471</td>\n",
       "      <td>15698</td>\n",
       "    </tr>\n",
       "    <tr>\n",
       "      <th>728</th>\n",
       "      <td>1</td>\n",
       "      <td>12</td>\n",
       "      <td>0.253333</td>\n",
       "      <td>0.242400</td>\n",
       "      <td>0.752917</td>\n",
       "      <td>0.124383</td>\n",
       "      <td>12365</td>\n",
       "    </tr>\n",
       "    <tr>\n",
       "      <th>729</th>\n",
       "      <td>1</td>\n",
       "      <td>12</td>\n",
       "      <td>0.255833</td>\n",
       "      <td>0.231700</td>\n",
       "      <td>0.483333</td>\n",
       "      <td>0.350754</td>\n",
       "      <td>15320</td>\n",
       "    </tr>\n",
       "    <tr>\n",
       "      <th>730</th>\n",
       "      <td>1</td>\n",
       "      <td>12</td>\n",
       "      <td>0.215833</td>\n",
       "      <td>0.223487</td>\n",
       "      <td>0.577500</td>\n",
       "      <td>0.154846</td>\n",
       "      <td>12000</td>\n",
       "    </tr>\n",
       "  </tbody>\n",
       "</table>\n",
       "<p>731 rows × 7 columns</p>\n",
       "</div>"
      ],
      "text/plain": [
       "     season  month      temp     atemp  humidity  windspeed  price\n",
       "0         1      1  0.344167  0.363625  0.805833   0.160446  17000\n",
       "1         1      1  0.363478  0.353739  0.696087   0.248539  11856\n",
       "2         1      1  0.196364  0.189405  0.437273   0.248309  12315\n",
       "3         1      1  0.200000  0.212122  0.590435   0.160296  16000\n",
       "4         1      1  0.226957  0.229270  0.436957   0.186900  15000\n",
       "..      ...    ...       ...       ...       ...        ...    ...\n",
       "726       1     12  0.254167  0.226642  0.652917   0.350133  11500\n",
       "727       1     12  0.253333  0.255046  0.590000   0.155471  15698\n",
       "728       1     12  0.253333  0.242400  0.752917   0.124383  12365\n",
       "729       1     12  0.255833  0.231700  0.483333   0.350754  15320\n",
       "730       1     12  0.215833  0.223487  0.577500   0.154846  12000\n",
       "\n",
       "[731 rows x 7 columns]"
      ]
     },
     "execution_count": 4,
     "metadata": {},
     "output_type": "execute_result"
    }
   ],
   "source": [
    "data"
   ]
  },
  {
   "cell_type": "code",
   "execution_count": 5,
   "metadata": {},
   "outputs": [
    {
     "data": {
      "text/plain": [
       "season         int64\n",
       "month          int64\n",
       "temp         float64\n",
       "atemp        float64\n",
       "humidity     float64\n",
       "windspeed    float64\n",
       "price          int64\n",
       "dtype: object"
      ]
     },
     "execution_count": 5,
     "metadata": {},
     "output_type": "execute_result"
    }
   ],
   "source": [
    "data.dtypes"
   ]
  },
  {
   "cell_type": "markdown",
   "metadata": {},
   "source": [
    "#All the features in the dataset are Numerical values.This dataset doesn't contains any categorical values."
   ]
  },
  {
   "cell_type": "code",
   "execution_count": 6,
   "metadata": {},
   "outputs": [
    {
     "data": {
      "text/plain": [
       "array([1, 2, 3, 4], dtype=int64)"
      ]
     },
     "execution_count": 6,
     "metadata": {},
     "output_type": "execute_result"
    }
   ],
   "source": [
    "data['season'].unique()"
   ]
  },
  {
   "cell_type": "markdown",
   "metadata": {},
   "source": [
    "#There are 4 different types of seasons in the dataset"
   ]
  },
  {
   "cell_type": "code",
   "execution_count": 7,
   "metadata": {},
   "outputs": [
    {
     "data": {
      "text/plain": [
       "array([ 1,  2,  3,  4,  5,  6,  7,  8,  9, 10, 11, 12], dtype=int64)"
      ]
     },
     "execution_count": 7,
     "metadata": {},
     "output_type": "execute_result"
    }
   ],
   "source": [
    "data['month'].unique()"
   ]
  },
  {
   "cell_type": "markdown",
   "metadata": {},
   "source": [
    "# Finding missing values"
   ]
  },
  {
   "cell_type": "code",
   "execution_count": 8,
   "metadata": {},
   "outputs": [
    {
     "data": {
      "text/plain": [
       "season       0\n",
       "month        0\n",
       "temp         0\n",
       "atemp        0\n",
       "humidity     0\n",
       "windspeed    0\n",
       "price        0\n",
       "dtype: int64"
      ]
     },
     "execution_count": 8,
     "metadata": {},
     "output_type": "execute_result"
    }
   ],
   "source": [
    "data.isnull().sum()"
   ]
  },
  {
   "cell_type": "markdown",
   "metadata": {},
   "source": [
    "#No missing values are found in the dataset"
   ]
  },
  {
   "cell_type": "code",
   "execution_count": 9,
   "metadata": {
    "scrolled": true
   },
   "outputs": [
    {
     "data": {
      "text/html": [
       "<div>\n",
       "<style scoped>\n",
       "    .dataframe tbody tr th:only-of-type {\n",
       "        vertical-align: middle;\n",
       "    }\n",
       "\n",
       "    .dataframe tbody tr th {\n",
       "        vertical-align: top;\n",
       "    }\n",
       "\n",
       "    .dataframe thead th {\n",
       "        text-align: right;\n",
       "    }\n",
       "</style>\n",
       "<table border=\"1\" class=\"dataframe\">\n",
       "  <thead>\n",
       "    <tr style=\"text-align: right;\">\n",
       "      <th></th>\n",
       "      <th>season</th>\n",
       "      <th>month</th>\n",
       "      <th>temp</th>\n",
       "      <th>atemp</th>\n",
       "      <th>humidity</th>\n",
       "      <th>windspeed</th>\n",
       "      <th>price</th>\n",
       "    </tr>\n",
       "  </thead>\n",
       "  <tbody>\n",
       "    <tr>\n",
       "      <th>season</th>\n",
       "      <td>1.000000</td>\n",
       "      <td>0.831440</td>\n",
       "      <td>0.334315</td>\n",
       "      <td>0.342876</td>\n",
       "      <td>0.205445</td>\n",
       "      <td>-0.229046</td>\n",
       "      <td>0.004716</td>\n",
       "    </tr>\n",
       "    <tr>\n",
       "      <th>month</th>\n",
       "      <td>0.831440</td>\n",
       "      <td>1.000000</td>\n",
       "      <td>0.220205</td>\n",
       "      <td>0.227459</td>\n",
       "      <td>0.222204</td>\n",
       "      <td>-0.207502</td>\n",
       "      <td>-0.015020</td>\n",
       "    </tr>\n",
       "    <tr>\n",
       "      <th>temp</th>\n",
       "      <td>0.334315</td>\n",
       "      <td>0.220205</td>\n",
       "      <td>1.000000</td>\n",
       "      <td>0.991702</td>\n",
       "      <td>0.126963</td>\n",
       "      <td>-0.157944</td>\n",
       "      <td>-0.007998</td>\n",
       "    </tr>\n",
       "    <tr>\n",
       "      <th>atemp</th>\n",
       "      <td>0.342876</td>\n",
       "      <td>0.227459</td>\n",
       "      <td>0.991702</td>\n",
       "      <td>1.000000</td>\n",
       "      <td>0.139988</td>\n",
       "      <td>-0.183643</td>\n",
       "      <td>0.000864</td>\n",
       "    </tr>\n",
       "    <tr>\n",
       "      <th>humidity</th>\n",
       "      <td>0.205445</td>\n",
       "      <td>0.222204</td>\n",
       "      <td>0.126963</td>\n",
       "      <td>0.139988</td>\n",
       "      <td>1.000000</td>\n",
       "      <td>-0.248489</td>\n",
       "      <td>0.036177</td>\n",
       "    </tr>\n",
       "    <tr>\n",
       "      <th>windspeed</th>\n",
       "      <td>-0.229046</td>\n",
       "      <td>-0.207502</td>\n",
       "      <td>-0.157944</td>\n",
       "      <td>-0.183643</td>\n",
       "      <td>-0.248489</td>\n",
       "      <td>1.000000</td>\n",
       "      <td>-0.044866</td>\n",
       "    </tr>\n",
       "    <tr>\n",
       "      <th>price</th>\n",
       "      <td>0.004716</td>\n",
       "      <td>-0.015020</td>\n",
       "      <td>-0.007998</td>\n",
       "      <td>0.000864</td>\n",
       "      <td>0.036177</td>\n",
       "      <td>-0.044866</td>\n",
       "      <td>1.000000</td>\n",
       "    </tr>\n",
       "  </tbody>\n",
       "</table>\n",
       "</div>"
      ],
      "text/plain": [
       "             season     month      temp     atemp  humidity  windspeed  \\\n",
       "season     1.000000  0.831440  0.334315  0.342876  0.205445  -0.229046   \n",
       "month      0.831440  1.000000  0.220205  0.227459  0.222204  -0.207502   \n",
       "temp       0.334315  0.220205  1.000000  0.991702  0.126963  -0.157944   \n",
       "atemp      0.342876  0.227459  0.991702  1.000000  0.139988  -0.183643   \n",
       "humidity   0.205445  0.222204  0.126963  0.139988  1.000000  -0.248489   \n",
       "windspeed -0.229046 -0.207502 -0.157944 -0.183643 -0.248489   1.000000   \n",
       "price      0.004716 -0.015020 -0.007998  0.000864  0.036177  -0.044866   \n",
       "\n",
       "              price  \n",
       "season     0.004716  \n",
       "month     -0.015020  \n",
       "temp      -0.007998  \n",
       "atemp      0.000864  \n",
       "humidity   0.036177  \n",
       "windspeed -0.044866  \n",
       "price      1.000000  "
      ]
     },
     "execution_count": 9,
     "metadata": {},
     "output_type": "execute_result"
    }
   ],
   "source": [
    "data.corr()"
   ]
  },
  {
   "cell_type": "markdown",
   "metadata": {},
   "source": [
    "#From this we can get the details about which variables effects the output variable"
   ]
  },
  {
   "cell_type": "markdown",
   "metadata": {},
   "source": [
    "#Data Analysis"
   ]
  },
  {
   "cell_type": "code",
   "execution_count": 10,
   "metadata": {},
   "outputs": [
    {
     "data": {
      "text/plain": [
       "3    188\n",
       "2    184\n",
       "1    181\n",
       "4    178\n",
       "Name: season, dtype: int64"
      ]
     },
     "execution_count": 10,
     "metadata": {},
     "output_type": "execute_result"
    }
   ],
   "source": [
    "data['season'].value_counts()"
   ]
  },
  {
   "cell_type": "code",
   "execution_count": 11,
   "metadata": {},
   "outputs": [
    {
     "data": {
      "text/plain": [
       "731"
      ]
     },
     "execution_count": 11,
     "metadata": {},
     "output_type": "execute_result"
    }
   ],
   "source": [
    "data['season'].value_counts().sum()"
   ]
  },
  {
   "cell_type": "markdown",
   "metadata": {},
   "source": [
    "#The dataset contains 181 observations with season1,184 observations with season,188 observations with season3,178 observations with season4."
   ]
  },
  {
   "cell_type": "code",
   "execution_count": 12,
   "metadata": {},
   "outputs": [
    {
     "data": {
      "text/plain": [
       "12    62\n",
       "10    62\n",
       "8     62\n",
       "7     62\n",
       "5     62\n",
       "3     62\n",
       "1     62\n",
       "11    60\n",
       "9     60\n",
       "6     60\n",
       "4     60\n",
       "2     57\n",
       "Name: month, dtype: int64"
      ]
     },
     "execution_count": 12,
     "metadata": {},
     "output_type": "execute_result"
    }
   ],
   "source": [
    "data['month'].value_counts()"
   ]
  },
  {
   "cell_type": "markdown",
   "metadata": {},
   "source": []
  },
  {
   "cell_type": "markdown",
   "metadata": {},
   "source": [
    "# Data Visualization"
   ]
  },
  {
   "cell_type": "markdown",
   "metadata": {},
   "source": [
    "# Univariate"
   ]
  },
  {
   "cell_type": "markdown",
   "metadata": {},
   "source": [
    "#Univariate----Here we analysis using a single feature to analyze almost of its properties."
   ]
  },
  {
   "cell_type": "code",
   "execution_count": 13,
   "metadata": {},
   "outputs": [
    {
     "data": {
      "text/plain": [
       "<matplotlib.axes._subplots.AxesSubplot at 0x2b4ca1949c8>"
      ]
     },
     "execution_count": 13,
     "metadata": {},
     "output_type": "execute_result"
    },
    {
     "data": {
      "image/png": "[encoded data removed]",
      "text/plain": [
       "<Figure size 432x288 with 1 Axes>"
      ]
     },
     "metadata": {
      "needs_background": "light"
     },
     "output_type": "display_data"
    }
   ],
   "source": [
    "data['price'].plot.hist()"
   ]
  },
  {
   "cell_type": "markdown",
   "metadata": {},
   "source": [
    "#From this histogram we can say that the dataset contains more values in between  12000-13000.\n",
    "And it contains very few values in between 16000-17000"
   ]
  },
  {
   "cell_type": "code",
   "execution_count": 14,
   "metadata": {},
   "outputs": [
    {
     "data": {
      "text/plain": [
       "<matplotlib.axes._subplots.AxesSubplot at 0x2b4ca8a7848>"
      ]
     },
     "execution_count": 14,
     "metadata": {},
     "output_type": "execute_result"
    },
    {
     "data": {
      "image/png": "[encoded data removed]",
      "text/plain": [
       "<Figure size 432x288 with 1 Axes>"
      ]
     },
     "metadata": {
      "needs_background": "light"
     },
     "output_type": "display_data"
    }
   ],
   "source": [
    "data['season'].value_counts().plot.bar()"
   ]
  },
  {
   "cell_type": "code",
   "execution_count": 15,
   "metadata": {},
   "outputs": [
    {
     "data": {
      "text/plain": [
       "<matplotlib.axes._subplots.AxesSubplot at 0x2b4ca9ad288>"
      ]
     },
     "execution_count": 15,
     "metadata": {},
     "output_type": "execute_result"
    },
    {
     "data": {
      "image/png": "[encoded data removed]",
      "text/plain": [
       "<Figure size 432x288 with 1 Axes>"
      ]
     },
     "metadata": {
      "needs_background": "light"
     },
     "output_type": "display_data"
    }
   ],
   "source": [
    "data[data['season']==1]['price'].plot.hist()"
   ]
  },
  {
   "cell_type": "markdown",
   "metadata": {},
   "source": [
    "#This histogram gives the details about observations having season==1.In season 1 more values have price in between 12000-13000"
   ]
  },
  {
   "cell_type": "markdown",
   "metadata": {},
   "source": [
    "# Bi-varient "
   ]
  },
  {
   "cell_type": "code",
   "execution_count": 16,
   "metadata": {},
   "outputs": [
    {
     "data": {
      "text/plain": [
       "Text(0.5, 1.0, 'Scatter plot on coal_price dataset')"
      ]
     },
     "execution_count": 16,
     "metadata": {},
     "output_type": "execute_result"
    },
    {
     "data": {
      "image/png": "[encoded data removed]",
      "text/plain": [
       "<Figure size 432x288 with 1 Axes>"
      ]
     },
     "metadata": {
      "needs_background": "light"
     },
     "output_type": "display_data"
    }
   ],
   "source": [
    "ax=plt.plot(data['temp'],data['price'],'o')\n",
    "plt.ylabel(\"price\")\n",
    "plt.xlabel(\"temp\")\n",
    "plt.title('Scatter plot on coal_price dataset')"
   ]
  },
  {
   "cell_type": "code",
   "execution_count": 17,
   "metadata": {},
   "outputs": [
    {
     "data": {
      "text/plain": [
       "Text(0.5, 0, 'atemp')"
      ]
     },
     "execution_count": 17,
     "metadata": {},
     "output_type": "execute_result"
    },
    {
     "data": {
      "image/png": "[encoded data removed]",
      "text/plain": [
       "<Figure size 432x288 with 1 Axes>"
      ]
     },
     "metadata": {
      "needs_background": "light"
     },
     "output_type": "display_data"
    }
   ],
   "source": [
    "ax=plt.plot(data['atemp'],data['price'],'o')\n",
    "plt.ylabel(\"price\")\n",
    "plt.xlabel(\"atemp\")"
   ]
  },
  {
   "cell_type": "code",
   "execution_count": 18,
   "metadata": {},
   "outputs": [
    {
     "data": {
      "text/plain": [
       "Text(0.5, 0, 'humidity')"
      ]
     },
     "execution_count": 18,
     "metadata": {},
     "output_type": "execute_result"
    },
    {
     "data": {
      "image/png": "[encoded data removed]",
      "text/plain": [
       "<Figure size 432x288 with 1 Axes>"
      ]
     },
     "metadata": {
      "needs_background": "light"
     },
     "output_type": "display_data"
    }
   ],
   "source": [
    "ax=plt.plot(data['humidity'],data['price'],'o')\n",
    "plt.ylabel(\"price\")\n",
    "plt.xlabel(\"humidity\")"
   ]
  },
  {
   "cell_type": "code",
   "execution_count": 19,
   "metadata": {},
   "outputs": [
    {
     "data": {
      "text/plain": [
       "Text(0.5, 0, 'windspeed')"
      ]
     },
     "execution_count": 19,
     "metadata": {},
     "output_type": "execute_result"
    },
    {
     "data": {
      "image/png": "[encoded data removed]",
      "text/plain": [
       "<Figure size 432x288 with 1 Axes>"
      ]
     },
     "metadata": {
      "needs_background": "light"
     },
     "output_type": "display_data"
    }
   ],
   "source": [
    "ax=plt.plot(data['windspeed'],data['price'],'o')\n",
    "plt.ylabel(\"price\")\n",
    "plt.xlabel(\"windspeed\")"
   ]
  },
  {
   "cell_type": "code",
   "execution_count": 20,
   "metadata": {},
   "outputs": [
    {
     "data": {
      "text/plain": [
       "Text(0.5, 0, 'windspeed')"
      ]
     },
     "execution_count": 20,
     "metadata": {},
     "output_type": "execute_result"
    },
    {
     "data": {
      "image/png": "[encoded data removed]",
      "text/plain": [
       "<Figure size 432x288 with 1 Axes>"
      ]
     },
     "metadata": {
      "needs_background": "light"
     },
     "output_type": "display_data"
    }
   ],
   "source": [
    "ax=plt.plot(data['season'],data['price'],'o')\n",
    "plt.ylabel(\"season\")\n",
    "plt.xlabel(\"windspeed\")"
   ]
  },
  {
   "cell_type": "code",
   "execution_count": 21,
   "metadata": {},
   "outputs": [],
   "source": [
    "import seaborn as sns"
   ]
  },
  {
   "cell_type": "code",
   "execution_count": 22,
   "metadata": {},
   "outputs": [
    {
     "data": {
      "text/plain": [
       "<matplotlib.axes._subplots.AxesSubplot at 0x2b4ccd67c48>"
      ]
     },
     "execution_count": 22,
     "metadata": {},
     "output_type": "execute_result"
    },
    {
     "data": {
      "image/png": "[encoded data removed]",
      "text/plain": [
       "<Figure size 432x288 with 1 Axes>"
      ]
     },
     "metadata": {
      "needs_background": "light"
     },
     "output_type": "display_data"
    }
   ],
   "source": [
    "sns.countplot(data['month'])"
   ]
  },
  {
   "cell_type": "markdown",
   "metadata": {},
   "source": [
    "#The above graphs gives the count of number of observations having month=1,month=2,.......,month=12"
   ]
  },
  {
   "cell_type": "code",
   "execution_count": 23,
   "metadata": {},
   "outputs": [
    {
     "data": {
      "text/plain": [
       "array([[<matplotlib.axes._subplots.AxesSubplot object at 0x000002B4CCE02A48>,\n",
       "        <matplotlib.axes._subplots.AxesSubplot object at 0x000002B4CCE29FC8>],\n",
       "       [<matplotlib.axes._subplots.AxesSubplot object at 0x000002B4CCE66888>,\n",
       "        <matplotlib.axes._subplots.AxesSubplot object at 0x000002B4CCE9D9C8>]],\n",
       "      dtype=object)"
      ]
     },
     "execution_count": 23,
     "metadata": {},
     "output_type": "execute_result"
    },
    {
     "data": {
      "image/png": "[encoded data removed]",
      "text/plain": [
       "<Figure size 432x288 with 4 Axes>"
      ]
     },
     "metadata": {
      "needs_background": "light"
     },
     "output_type": "display_data"
    }
   ],
   "source": [
    "data.hist(column=\"price\",by='season',bins=10)"
   ]
  },
  {
   "cell_type": "markdown",
   "metadata": {},
   "source": [
    "# Splitting Dataset in to Independent variable and Dependent variable "
   ]
  },
  {
   "cell_type": "code",
   "execution_count": 24,
   "metadata": {},
   "outputs": [],
   "source": [
    "#Feature Engineering\n",
    "x = data.iloc[:, 0:6]\n",
    "y = data.iloc[:, 6]"
   ]
  },
  {
   "cell_type": "code",
   "execution_count": 25,
   "metadata": {},
   "outputs": [
    {
     "data": {
      "text/html": [
       "<div>\n",
       "<style scoped>\n",
       "    .dataframe tbody tr th:only-of-type {\n",
       "        vertical-align: middle;\n",
       "    }\n",
       "\n",
       "    .dataframe tbody tr th {\n",
       "        vertical-align: top;\n",
       "    }\n",
       "\n",
       "    .dataframe thead th {\n",
       "        text-align: right;\n",
       "    }\n",
       "</style>\n",
       "<table border=\"1\" class=\"dataframe\">\n",
       "  <thead>\n",
       "    <tr style=\"text-align: right;\">\n",
       "      <th></th>\n",
       "      <th>season</th>\n",
       "      <th>month</th>\n",
       "      <th>temp</th>\n",
       "      <th>atemp</th>\n",
       "      <th>humidity</th>\n",
       "      <th>windspeed</th>\n",
       "    </tr>\n",
       "  </thead>\n",
       "  <tbody>\n",
       "    <tr>\n",
       "      <th>0</th>\n",
       "      <td>1</td>\n",
       "      <td>1</td>\n",
       "      <td>0.344167</td>\n",
       "      <td>0.363625</td>\n",
       "      <td>0.805833</td>\n",
       "      <td>0.160446</td>\n",
       "    </tr>\n",
       "    <tr>\n",
       "      <th>1</th>\n",
       "      <td>1</td>\n",
       "      <td>1</td>\n",
       "      <td>0.363478</td>\n",
       "      <td>0.353739</td>\n",
       "      <td>0.696087</td>\n",
       "      <td>0.248539</td>\n",
       "    </tr>\n",
       "    <tr>\n",
       "      <th>2</th>\n",
       "      <td>1</td>\n",
       "      <td>1</td>\n",
       "      <td>0.196364</td>\n",
       "      <td>0.189405</td>\n",
       "      <td>0.437273</td>\n",
       "      <td>0.248309</td>\n",
       "    </tr>\n",
       "    <tr>\n",
       "      <th>3</th>\n",
       "      <td>1</td>\n",
       "      <td>1</td>\n",
       "      <td>0.200000</td>\n",
       "      <td>0.212122</td>\n",
       "      <td>0.590435</td>\n",
       "      <td>0.160296</td>\n",
       "    </tr>\n",
       "    <tr>\n",
       "      <th>4</th>\n",
       "      <td>1</td>\n",
       "      <td>1</td>\n",
       "      <td>0.226957</td>\n",
       "      <td>0.229270</td>\n",
       "      <td>0.436957</td>\n",
       "      <td>0.186900</td>\n",
       "    </tr>\n",
       "    <tr>\n",
       "      <th>...</th>\n",
       "      <td>...</td>\n",
       "      <td>...</td>\n",
       "      <td>...</td>\n",
       "      <td>...</td>\n",
       "      <td>...</td>\n",
       "      <td>...</td>\n",
       "    </tr>\n",
       "    <tr>\n",
       "      <th>726</th>\n",
       "      <td>1</td>\n",
       "      <td>12</td>\n",
       "      <td>0.254167</td>\n",
       "      <td>0.226642</td>\n",
       "      <td>0.652917</td>\n",
       "      <td>0.350133</td>\n",
       "    </tr>\n",
       "    <tr>\n",
       "      <th>727</th>\n",
       "      <td>1</td>\n",
       "      <td>12</td>\n",
       "      <td>0.253333</td>\n",
       "      <td>0.255046</td>\n",
       "      <td>0.590000</td>\n",
       "      <td>0.155471</td>\n",
       "    </tr>\n",
       "    <tr>\n",
       "      <th>728</th>\n",
       "      <td>1</td>\n",
       "      <td>12</td>\n",
       "      <td>0.253333</td>\n",
       "      <td>0.242400</td>\n",
       "      <td>0.752917</td>\n",
       "      <td>0.124383</td>\n",
       "    </tr>\n",
       "    <tr>\n",
       "      <th>729</th>\n",
       "      <td>1</td>\n",
       "      <td>12</td>\n",
       "      <td>0.255833</td>\n",
       "      <td>0.231700</td>\n",
       "      <td>0.483333</td>\n",
       "      <td>0.350754</td>\n",
       "    </tr>\n",
       "    <tr>\n",
       "      <th>730</th>\n",
       "      <td>1</td>\n",
       "      <td>12</td>\n",
       "      <td>0.215833</td>\n",
       "      <td>0.223487</td>\n",
       "      <td>0.577500</td>\n",
       "      <td>0.154846</td>\n",
       "    </tr>\n",
       "  </tbody>\n",
       "</table>\n",
       "<p>731 rows × 6 columns</p>\n",
       "</div>"
      ],
      "text/plain": [
       "     season  month      temp     atemp  humidity  windspeed\n",
       "0         1      1  0.344167  0.363625  0.805833   0.160446\n",
       "1         1      1  0.363478  0.353739  0.696087   0.248539\n",
       "2         1      1  0.196364  0.189405  0.437273   0.248309\n",
       "3         1      1  0.200000  0.212122  0.590435   0.160296\n",
       "4         1      1  0.226957  0.229270  0.436957   0.186900\n",
       "..      ...    ...       ...       ...       ...        ...\n",
       "726       1     12  0.254167  0.226642  0.652917   0.350133\n",
       "727       1     12  0.253333  0.255046  0.590000   0.155471\n",
       "728       1     12  0.253333  0.242400  0.752917   0.124383\n",
       "729       1     12  0.255833  0.231700  0.483333   0.350754\n",
       "730       1     12  0.215833  0.223487  0.577500   0.154846\n",
       "\n",
       "[731 rows x 6 columns]"
      ]
     },
     "execution_count": 25,
     "metadata": {},
     "output_type": "execute_result"
    }
   ],
   "source": [
    "x"
   ]
  },
  {
   "cell_type": "code",
   "execution_count": 26,
   "metadata": {},
   "outputs": [
    {
     "data": {
      "text/plain": [
       "0      17000\n",
       "1      11856\n",
       "2      12315\n",
       "3      16000\n",
       "4      15000\n",
       "       ...  \n",
       "726    11500\n",
       "727    15698\n",
       "728    12365\n",
       "729    15320\n",
       "730    12000\n",
       "Name: price, Length: 731, dtype: int64"
      ]
     },
     "execution_count": 26,
     "metadata": {},
     "output_type": "execute_result"
    }
   ],
   "source": [
    "y"
   ]
  },
  {
   "cell_type": "code",
   "execution_count": 27,
   "metadata": {},
   "outputs": [
    {
     "data": {
      "text/plain": [
       "array([[0.        , 0.        , 0.3551696 , 0.37351738, 0.82862005,\n",
       "        0.2846062 ],\n",
       "       [0.        , 0.        , 0.37923205, 0.36054067, 0.71577069,\n",
       "        0.46621455],\n",
       "       [0.        , 0.        , 0.1709998 , 0.14483011, 0.44963805,\n",
       "        0.4657404 ],\n",
       "       ...,\n",
       "       [0.        , 1.        , 0.24198597, 0.2143932 , 0.77420771,\n",
       "        0.21026043],\n",
       "       [0.        , 1.        , 0.2451011 , 0.20034801, 0.49700051,\n",
       "        0.67693615],\n",
       "       [0.        , 1.        , 0.19525913, 0.18956733, 0.59383033,\n",
       "        0.27306151]])"
      ]
     },
     "execution_count": 27,
     "metadata": {},
     "output_type": "execute_result"
    }
   ],
   "source": [
    "from sklearn import preprocessing\n",
    "minmax=preprocessing.MinMaxScaler(feature_range=(0,1))\n",
    "minmax.fit(x).transform(x)"
   ]
  },
  {
   "cell_type": "markdown",
   "metadata": {},
   "source": [
    "# Splitting The dataset in to Train set and Testing set\n"
   ]
  },
  {
   "cell_type": "code",
   "execution_count": 28,
   "metadata": {},
   "outputs": [],
   "source": [
    "from sklearn.model_selection import train_test_split   \n",
    "X_train, X_test, y_train, y_test = train_test_split(x, y,test_size=0.2,random_state =1) "
   ]
  },
  {
   "cell_type": "code",
   "execution_count": 29,
   "metadata": {},
   "outputs": [
    {
     "data": {
      "text/html": [
       "<div>\n",
       "<style scoped>\n",
       "    .dataframe tbody tr th:only-of-type {\n",
       "        vertical-align: middle;\n",
       "    }\n",
       "\n",
       "    .dataframe tbody tr th {\n",
       "        vertical-align: top;\n",
       "    }\n",
       "\n",
       "    .dataframe thead th {\n",
       "        text-align: right;\n",
       "    }\n",
       "</style>\n",
       "<table border=\"1\" class=\"dataframe\">\n",
       "  <thead>\n",
       "    <tr style=\"text-align: right;\">\n",
       "      <th></th>\n",
       "      <th>season</th>\n",
       "      <th>month</th>\n",
       "      <th>temp</th>\n",
       "      <th>atemp</th>\n",
       "      <th>humidity</th>\n",
       "      <th>windspeed</th>\n",
       "    </tr>\n",
       "  </thead>\n",
       "  <tbody>\n",
       "    <tr>\n",
       "      <th>76</th>\n",
       "      <td>1</td>\n",
       "      <td>3</td>\n",
       "      <td>0.540000</td>\n",
       "      <td>0.527009</td>\n",
       "      <td>0.525217</td>\n",
       "      <td>0.231017</td>\n",
       "    </tr>\n",
       "    <tr>\n",
       "      <th>666</th>\n",
       "      <td>4</td>\n",
       "      <td>10</td>\n",
       "      <td>0.477500</td>\n",
       "      <td>0.467771</td>\n",
       "      <td>0.694583</td>\n",
       "      <td>0.398008</td>\n",
       "    </tr>\n",
       "    <tr>\n",
       "      <th>441</th>\n",
       "      <td>1</td>\n",
       "      <td>3</td>\n",
       "      <td>0.514167</td>\n",
       "      <td>0.505046</td>\n",
       "      <td>0.755833</td>\n",
       "      <td>0.110704</td>\n",
       "    </tr>\n",
       "    <tr>\n",
       "      <th>139</th>\n",
       "      <td>2</td>\n",
       "      <td>5</td>\n",
       "      <td>0.536667</td>\n",
       "      <td>0.529042</td>\n",
       "      <td>0.719583</td>\n",
       "      <td>0.125013</td>\n",
       "    </tr>\n",
       "    <tr>\n",
       "      <th>650</th>\n",
       "      <td>4</td>\n",
       "      <td>10</td>\n",
       "      <td>0.437500</td>\n",
       "      <td>0.433071</td>\n",
       "      <td>0.539167</td>\n",
       "      <td>0.235092</td>\n",
       "    </tr>\n",
       "    <tr>\n",
       "      <th>...</th>\n",
       "      <td>...</td>\n",
       "      <td>...</td>\n",
       "      <td>...</td>\n",
       "      <td>...</td>\n",
       "      <td>...</td>\n",
       "      <td>...</td>\n",
       "    </tr>\n",
       "    <tr>\n",
       "      <th>645</th>\n",
       "      <td>4</td>\n",
       "      <td>10</td>\n",
       "      <td>0.415833</td>\n",
       "      <td>0.419813</td>\n",
       "      <td>0.708333</td>\n",
       "      <td>0.141162</td>\n",
       "    </tr>\n",
       "    <tr>\n",
       "      <th>715</th>\n",
       "      <td>4</td>\n",
       "      <td>12</td>\n",
       "      <td>0.362500</td>\n",
       "      <td>0.369938</td>\n",
       "      <td>0.838750</td>\n",
       "      <td>0.100742</td>\n",
       "    </tr>\n",
       "    <tr>\n",
       "      <th>72</th>\n",
       "      <td>1</td>\n",
       "      <td>3</td>\n",
       "      <td>0.325217</td>\n",
       "      <td>0.332000</td>\n",
       "      <td>0.496957</td>\n",
       "      <td>0.136926</td>\n",
       "    </tr>\n",
       "    <tr>\n",
       "      <th>235</th>\n",
       "      <td>3</td>\n",
       "      <td>8</td>\n",
       "      <td>0.673333</td>\n",
       "      <td>0.630692</td>\n",
       "      <td>0.605000</td>\n",
       "      <td>0.253108</td>\n",
       "    </tr>\n",
       "    <tr>\n",
       "      <th>37</th>\n",
       "      <td>1</td>\n",
       "      <td>2</td>\n",
       "      <td>0.271667</td>\n",
       "      <td>0.303658</td>\n",
       "      <td>0.738333</td>\n",
       "      <td>0.045408</td>\n",
       "    </tr>\n",
       "  </tbody>\n",
       "</table>\n",
       "<p>584 rows × 6 columns</p>\n",
       "</div>"
      ],
      "text/plain": [
       "     season  month      temp     atemp  humidity  windspeed\n",
       "76        1      3  0.540000  0.527009  0.525217   0.231017\n",
       "666       4     10  0.477500  0.467771  0.694583   0.398008\n",
       "441       1      3  0.514167  0.505046  0.755833   0.110704\n",
       "139       2      5  0.536667  0.529042  0.719583   0.125013\n",
       "650       4     10  0.437500  0.433071  0.539167   0.235092\n",
       "..      ...    ...       ...       ...       ...        ...\n",
       "645       4     10  0.415833  0.419813  0.708333   0.141162\n",
       "715       4     12  0.362500  0.369938  0.838750   0.100742\n",
       "72        1      3  0.325217  0.332000  0.496957   0.136926\n",
       "235       3      8  0.673333  0.630692  0.605000   0.253108\n",
       "37        1      2  0.271667  0.303658  0.738333   0.045408\n",
       "\n",
       "[584 rows x 6 columns]"
      ]
     },
     "execution_count": 29,
     "metadata": {},
     "output_type": "execute_result"
    }
   ],
   "source": [
    "X_train"
   ]
  },
  {
   "cell_type": "code",
   "execution_count": 30,
   "metadata": {},
   "outputs": [
    {
     "data": {
      "text/html": [
       "<div>\n",
       "<style scoped>\n",
       "    .dataframe tbody tr th:only-of-type {\n",
       "        vertical-align: middle;\n",
       "    }\n",
       "\n",
       "    .dataframe tbody tr th {\n",
       "        vertical-align: top;\n",
       "    }\n",
       "\n",
       "    .dataframe thead th {\n",
       "        text-align: right;\n",
       "    }\n",
       "</style>\n",
       "<table border=\"1\" class=\"dataframe\">\n",
       "  <thead>\n",
       "    <tr style=\"text-align: right;\">\n",
       "      <th></th>\n",
       "      <th>season</th>\n",
       "      <th>month</th>\n",
       "      <th>temp</th>\n",
       "      <th>atemp</th>\n",
       "      <th>humidity</th>\n",
       "      <th>windspeed</th>\n",
       "    </tr>\n",
       "  </thead>\n",
       "  <tbody>\n",
       "    <tr>\n",
       "      <th>404</th>\n",
       "      <td>1</td>\n",
       "      <td>2</td>\n",
       "      <td>0.265000</td>\n",
       "      <td>0.261988</td>\n",
       "      <td>0.562083</td>\n",
       "      <td>0.194037</td>\n",
       "    </tr>\n",
       "    <tr>\n",
       "      <th>726</th>\n",
       "      <td>1</td>\n",
       "      <td>12</td>\n",
       "      <td>0.254167</td>\n",
       "      <td>0.226642</td>\n",
       "      <td>0.652917</td>\n",
       "      <td>0.350133</td>\n",
       "    </tr>\n",
       "    <tr>\n",
       "      <th>159</th>\n",
       "      <td>2</td>\n",
       "      <td>6</td>\n",
       "      <td>0.808333</td>\n",
       "      <td>0.757579</td>\n",
       "      <td>0.568333</td>\n",
       "      <td>0.149883</td>\n",
       "    </tr>\n",
       "    <tr>\n",
       "      <th>422</th>\n",
       "      <td>1</td>\n",
       "      <td>2</td>\n",
       "      <td>0.366667</td>\n",
       "      <td>0.357954</td>\n",
       "      <td>0.490833</td>\n",
       "      <td>0.268033</td>\n",
       "    </tr>\n",
       "    <tr>\n",
       "      <th>512</th>\n",
       "      <td>2</td>\n",
       "      <td>5</td>\n",
       "      <td>0.690000</td>\n",
       "      <td>0.641425</td>\n",
       "      <td>0.697083</td>\n",
       "      <td>0.215171</td>\n",
       "    </tr>\n",
       "    <tr>\n",
       "      <th>...</th>\n",
       "      <td>...</td>\n",
       "      <td>...</td>\n",
       "      <td>...</td>\n",
       "      <td>...</td>\n",
       "      <td>...</td>\n",
       "      <td>...</td>\n",
       "    </tr>\n",
       "    <tr>\n",
       "      <th>675</th>\n",
       "      <td>4</td>\n",
       "      <td>11</td>\n",
       "      <td>0.280833</td>\n",
       "      <td>0.281567</td>\n",
       "      <td>0.567083</td>\n",
       "      <td>0.173513</td>\n",
       "    </tr>\n",
       "    <tr>\n",
       "      <th>713</th>\n",
       "      <td>4</td>\n",
       "      <td>12</td>\n",
       "      <td>0.281667</td>\n",
       "      <td>0.294192</td>\n",
       "      <td>0.642917</td>\n",
       "      <td>0.131229</td>\n",
       "    </tr>\n",
       "    <tr>\n",
       "      <th>40</th>\n",
       "      <td>1</td>\n",
       "      <td>2</td>\n",
       "      <td>0.144348</td>\n",
       "      <td>0.149548</td>\n",
       "      <td>0.437391</td>\n",
       "      <td>0.221935</td>\n",
       "    </tr>\n",
       "    <tr>\n",
       "      <th>432</th>\n",
       "      <td>1</td>\n",
       "      <td>3</td>\n",
       "      <td>0.527500</td>\n",
       "      <td>0.524604</td>\n",
       "      <td>0.567500</td>\n",
       "      <td>0.441563</td>\n",
       "    </tr>\n",
       "    <tr>\n",
       "      <th>68</th>\n",
       "      <td>1</td>\n",
       "      <td>3</td>\n",
       "      <td>0.389091</td>\n",
       "      <td>0.385668</td>\n",
       "      <td>0.000000</td>\n",
       "      <td>0.261877</td>\n",
       "    </tr>\n",
       "  </tbody>\n",
       "</table>\n",
       "<p>147 rows × 6 columns</p>\n",
       "</div>"
      ],
      "text/plain": [
       "     season  month      temp     atemp  humidity  windspeed\n",
       "404       1      2  0.265000  0.261988  0.562083   0.194037\n",
       "726       1     12  0.254167  0.226642  0.652917   0.350133\n",
       "159       2      6  0.808333  0.757579  0.568333   0.149883\n",
       "422       1      2  0.366667  0.357954  0.490833   0.268033\n",
       "512       2      5  0.690000  0.641425  0.697083   0.215171\n",
       "..      ...    ...       ...       ...       ...        ...\n",
       "675       4     11  0.280833  0.281567  0.567083   0.173513\n",
       "713       4     12  0.281667  0.294192  0.642917   0.131229\n",
       "40        1      2  0.144348  0.149548  0.437391   0.221935\n",
       "432       1      3  0.527500  0.524604  0.567500   0.441563\n",
       "68        1      3  0.389091  0.385668  0.000000   0.261877\n",
       "\n",
       "[147 rows x 6 columns]"
      ]
     },
     "execution_count": 30,
     "metadata": {},
     "output_type": "execute_result"
    }
   ],
   "source": [
    "X_test"
   ]
  },
  {
   "cell_type": "code",
   "execution_count": 31,
   "metadata": {},
   "outputs": [
    {
     "data": {
      "text/plain": [
       "76     12300\n",
       "666    15000\n",
       "441    12598\n",
       "139    15248\n",
       "650    16000\n",
       "       ...  \n",
       "645    14789\n",
       "715    12315\n",
       "72     16000\n",
       "235    11856\n",
       "37     14000\n",
       "Name: price, Length: 584, dtype: int64"
      ]
     },
     "execution_count": 31,
     "metadata": {},
     "output_type": "execute_result"
    }
   ],
   "source": [
    "y_train"
   ]
  },
  {
   "cell_type": "code",
   "execution_count": 32,
   "metadata": {},
   "outputs": [
    {
     "data": {
      "text/plain": [
       "404    14789\n",
       "726    11500\n",
       "159    16000\n",
       "422    11500\n",
       "512    13520\n",
       "       ...  \n",
       "675    14562\n",
       "713    16987\n",
       "40     16000\n",
       "432    15000\n",
       "68     15936\n",
       "Name: price, Length: 147, dtype: int64"
      ]
     },
     "execution_count": 32,
     "metadata": {},
     "output_type": "execute_result"
    }
   ],
   "source": [
    "y_test"
   ]
  },
  {
   "cell_type": "markdown",
   "metadata": {},
   "source": [
    "# Feature scaling"
   ]
  },
  {
   "cell_type": "markdown",
   "metadata": {},
   "source": [
    "#It is a method used to standardize the range of independent variables."
   ]
  },
  {
   "cell_type": "code",
   "execution_count": 33,
   "metadata": {},
   "outputs": [],
   "source": [
    "from sklearn.preprocessing import StandardScaler"
   ]
  },
  {
   "cell_type": "code",
   "execution_count": 34,
   "metadata": {},
   "outputs": [],
   "source": [
    "sc=StandardScaler()"
   ]
  },
  {
   "cell_type": "code",
   "execution_count": 35,
   "metadata": {},
   "outputs": [],
   "source": [
    "X_train=sc.fit_transform(X_train)"
   ]
  },
  {
   "cell_type": "code",
   "execution_count": 36,
   "metadata": {},
   "outputs": [],
   "source": [
    "X_test=sc.fit_transform(X_test)"
   ]
  },
  {
   "cell_type": "code",
   "execution_count": 37,
   "metadata": {},
   "outputs": [
    {
     "data": {
      "text/plain": [
       "array([[-1.40444565, -1.049729  ,  0.20151252,  0.28089596, -0.76611197,\n",
       "         0.53104548],\n",
       "       [ 1.34481555,  1.01537791, -0.14832233, -0.09244397,  0.4245595 ,\n",
       "         2.67109072],\n",
       "       [-1.40444565, -1.049729  ,  0.05691598,  0.14247696,  0.85515731,\n",
       "        -1.01080566],\n",
       "       ...,\n",
       "       [-1.40444565, -1.049729  , -1.00070475, -0.94812336, -0.96478452,\n",
       "        -0.674762  ],\n",
       "       [ 0.42839515,  0.42534736,  0.94782501,  0.93434483, -0.20522406,\n",
       "         0.814149  ],\n",
       "       [-1.40444565, -1.34474427, -1.30044325, -1.1267452 ,  0.73212936,\n",
       "        -1.84759178]])"
      ]
     },
     "execution_count": 37,
     "metadata": {},
     "output_type": "execute_result"
    }
   ],
   "source": [
    "X_train"
   ]
  },
  {
   "cell_type": "code",
   "execution_count": 38,
   "metadata": {},
   "outputs": [
    {
     "data": {
      "text/plain": [
       "array([[-1.15596127e+00, -1.18874214e+00, -1.00458469e+00,\n",
       "        -1.03095249e+00, -2.91560322e-01, -7.27386808e-04],\n",
       "       [-1.15596127e+00,  1.53314407e+00, -1.06006214e+00,\n",
       "        -1.23312151e+00,  3.57689958e-01,  2.08165349e+00],\n",
       "       [-3.02060231e-01, -9.99876566e-02,  1.77790637e+00,\n",
       "         1.80368638e+00, -2.46887465e-01, -5.89758784e-01],\n",
       "       [-1.15596127e+00, -1.18874214e+00, -4.83932499e-01,\n",
       "        -4.82054399e-01, -8.00830886e-01,  9.86407806e-01],\n",
       "       [-3.02060231e-01, -3.72176277e-01,  1.17190505e+00,\n",
       "         1.13931870e+00,  6.73373379e-01,  2.81208328e-01],\n",
       "       [ 5.51840807e-01,  4.44389585e-01,  9.11581516e-01,\n",
       "         8.72087935e-01, -3.89840606e-01, -9.21600883e-01],\n",
       "       [ 1.40574185e+00,  1.26095545e+00, -9.23312007e-01,\n",
       "        -8.22560424e-01, -3.37526904e-01, -1.04814778e+00],\n",
       "       [ 5.51840807e-01,  7.16578206e-01,  1.08655081e+00,\n",
       "         1.04906733e+00,  1.34049280e+00,  2.48190873e-01],\n",
       "       [-1.15596127e+00,  1.53314407e+00, -1.93737280e-01,\n",
       "        -9.21586419e-02,  1.10521338e+00, -1.95858910e+00],\n",
       "       [-3.02060231e-01, -9.99876566e-02,  9.84127761e-01,\n",
       "         8.90225148e-01,  1.64724165e+00,  2.72870587e-01],\n",
       "       [-3.02060231e-01, -3.72176277e-01, -4.86345492e-02,\n",
       "         3.41498065e-02,  1.13797109e+00, -1.17045244e+00],\n",
       "       [-1.15596127e+00, -9.16553519e-01, -7.40732684e-01,\n",
       "        -7.84936144e-01,  3.33731012e-01,  5.18653856e-01],\n",
       "       [-1.15596127e+00, -1.46093076e+00, -1.65326570e+00,\n",
       "        -1.86496117e+00, -1.20586002e+00,  2.23929683e+00],\n",
       "       [-1.15596127e+00,  1.53314407e+00, -2.62017604e-01,\n",
       "        -1.60795212e-01,  9.26262445e-02,  3.47683471e-01],\n",
       "       [-3.02060231e-01, -9.99876566e-02,  9.62793040e-01,\n",
       "         8.90150792e-01, -9.64626595e-01, -2.49578945e-01],\n",
       "       [-1.15596127e+00, -1.46093076e+00, -1.81116619e+00,\n",
       "        -1.84687544e+00, -1.34583974e+00, -1.25286570e-01],\n",
       "       [ 5.51840807e-01, -9.99876566e-02,  1.20604778e+00,\n",
       "         1.11405472e+00, -1.20586002e+00, -1.17122254e-01],\n",
       "       [-3.02060231e-01, -3.72176277e-01,  2.28757789e-01,\n",
       "         2.83409231e-01, -3.63036892e-01,  1.60046577e+00],\n",
       "       [ 5.51840807e-01,  7.16578206e-01,  1.56211545e-01,\n",
       "         2.07502904e-01,  8.25261092e-01, -5.89181500e-02],\n",
       "       [-3.02060231e-01, -3.72176277e-01,  7.02464381e-01,\n",
       "         7.06004594e-01,  1.48939994e+00,  5.21775507e-01],\n",
       "       [-1.15596127e+00, -9.16553519e-01, -9.96047734e-01,\n",
       "        -1.02013651e+00, -4.85140317e-01,  2.97937172e-01],\n",
       "       [ 5.51840807e-01, -9.99876566e-02,  1.21031370e+00,\n",
       "         1.13569812e+00, -1.73598030e+00,  1.03632753e+00],\n",
       "       [ 5.51840807e-01,  4.44389585e-01,  1.18044201e+00,\n",
       "         1.12118149e+00, -9.49738025e-01,  1.10269595e+00],\n",
       "       [-1.15596127e+00, -1.18874214e+00, -9.27767410e-01,\n",
       "        -1.00921758e+00, -6.22139460e-01,  7.87355908e-01],\n",
       "       [-3.02060231e-01, -9.99876566e-02,  1.35114539e+00,\n",
       "         1.34873460e+00,  3.69597955e-01, -5.23497088e-01],\n",
       "       [-1.15596127e+00, -9.16553519e-01, -8.89358767e-01,\n",
       "        -9.40701120e-01, -1.80447630e+00,  4.22336270e-01],\n",
       "       [ 5.51840807e-01,  4.44389585e-01,  1.70108909e+00,\n",
       "         1.76758355e+00,  7.47571019e-02,  8.45333225e-01],\n",
       "       [-1.15596127e+00, -1.18874214e+00, -5.47946903e-01,\n",
       "        -4.64037299e-01, -7.62112028e-01, -6.23163111e-01],\n",
       "       [-1.15596127e+00, -1.18874214e+00, -9.32033330e-01,\n",
       "        -9.94803897e-01, -1.37859745e+00,  1.48578212e-01],\n",
       "       [-1.15596127e+00, -1.18874214e+00, -1.29722875e-01,\n",
       "        -7.76477270e-02, -6.99570029e-01,  4.80420310e-01],\n",
       "       [-1.15596127e+00,  1.53314407e+00, -9.54484461e-01,\n",
       "        -9.28152067e-01,  5.60590499e-01, -5.20282055e-01],\n",
       "       [ 1.40574185e+00,  1.53314407e+00, -9.14964529e-01,\n",
       "        -8.07025680e-01, -9.20191799e-02, -7.14264606e-01],\n",
       "       [-3.02060231e-01, -6.44364898e-01, -6.37567069e-01,\n",
       "        -6.87964110e-01,  9.05672233e-01,  3.39239007e-01],\n",
       "       [-1.15596127e+00,  1.53314407e+00, -1.00031877e+00,\n",
       "        -1.17895009e+00, -1.15523317e+00,  2.84489698e+00],\n",
       "       [ 5.51840807e-01,  1.72200964e-01,  1.87606350e+00,\n",
       "         1.82535266e+00, -1.03610317e+00, -8.34109895e-04],\n",
       "       [ 1.40574185e+00,  9.88766826e-01,  3.73860520e-01,\n",
       "         3.91752057e-01, -1.66476323e-01, -2.49632306e-01],\n",
       "       [-1.15596127e+00, -1.46093076e+00, -1.86293438e+00,\n",
       "        -1.85492308e+00, -7.94355109e-01, -4.77072545e-01],\n",
       "       [ 1.40574185e+00,  1.26095545e+00, -7.01581474e-01,\n",
       "        -7.74543423e-01, -1.11949488e+00,  1.60863008e+00],\n",
       "       [ 5.51840807e-01,  1.72200964e-01,  1.58159724e+00,\n",
       "         1.55809901e+00, -1.75620365e-02, -3.82369146e-01],\n",
       "       [-1.15596127e+00, -1.46093076e+00, -7.44261157e-01,\n",
       "        -6.62654374e-01, -4.25578891e-01,  2.23284373e-01],\n",
       "       [-3.02060231e-01, -3.72176277e-01,  5.18958129e-01,\n",
       "         5.36317833e-01,  1.88847508e+00, -5.48456950e-01],\n",
       "       [-3.02060231e-01, -3.72176277e-01,  8.98778636e-01,\n",
       "         8.79357691e-01,  6.79334525e-01, -9.54898486e-01],\n",
       "       [ 5.51840807e-01,  1.72200964e-01,  2.05103791e+00,\n",
       "         2.07442333e+00, -7.91896315e-01, -4.07382369e-01],\n",
       "       [-3.02060231e-01, -3.72176277e-01,  6.17115256e-01,\n",
       "         6.59125816e-01,  5.92962238e-01,  1.35988525e+00],\n",
       "       [ 5.51840807e-01, -9.99876566e-02,  1.19751082e+00,\n",
       "         1.15011752e+00, -8.54438314e-01,  2.06502167e-01],\n",
       "       [-3.02060231e-01, -3.72176277e-01,  5.82972534e-01,\n",
       "         6.33695967e-01,  1.00991366e+00,  2.97763747e-01],\n",
       "       [-3.02060231e-01, -3.72176277e-01,  1.12069353e+00,\n",
       "         1.08157247e+00, -7.85935169e-01,  1.58413724e-02],\n",
       "       [ 1.40574185e+00,  1.26095545e+00, -3.38834889e-01,\n",
       "        -2.36581425e-01,  1.11414795e+00, -1.82585226e+00],\n",
       "       [ 1.40574185e+00,  1.26095545e+00, -9.36304371e-01,\n",
       "        -1.10671582e+00, -1.41731631e+00,  2.43834872e+00],\n",
       "       [ 5.51840807e-01,  4.44389585e-01,  1.27859402e+00,\n",
       "         1.22592661e+00,  1.99841100e-01, -1.25339931e-01],\n",
       "       [-3.02060231e-01, -6.44364898e-01,  2.11688988e-01,\n",
       "         2.90678988e-01,  9.74175378e-01,  1.07773609e+00],\n",
       "       [ 1.40574185e+00,  9.88766826e-01,  6.46986938e-01,\n",
       "         6.66275459e-01,  2.38559958e-01, -1.61835323e+00],\n",
       "       [ 1.40574185e+00,  1.53314407e+00, -9.44836210e-01,\n",
       "        -9.22592505e-01,  2.47494530e-01, -2.82756484e-01],\n",
       "       [-1.15596127e+00, -1.18874214e+00, -9.01050358e-01,\n",
       "        -9.43200635e-01, -1.39413645e+00,  3.88785200e-01],\n",
       "       [ 1.40574185e+00,  9.88766826e-01, -1.72397438e-01,\n",
       "        -1.06600920e-01, -2.05188034e-01,  3.64252230e-01],\n",
       "       [-1.15596127e+00, -1.18874214e+00, -1.00031877e+00,\n",
       "        -1.01646445e+00,  6.07857955e-01, -2.41401288e-01],\n",
       "       [-1.15596127e+00, -1.18874214e+00, -9.14964529e-01,\n",
       "        -9.15391385e-01, -4.64290602e-01, -1.00326708e-01],\n",
       "       [ 5.51840807e-01,  4.44389585e-01,  9.62793040e-01,\n",
       "         9.08242248e-01,  5.06597098e-01, -1.61846529e+00],\n",
       "       [ 5.51840807e-01,  1.72200964e-01,  1.60720300e+00,\n",
       "         1.42096887e+00, -1.42922430e+00, -1.41788627e-01],\n",
       "       [-1.15596127e+00, -1.46093076e+00, -1.02165350e+00,\n",
       "        -1.07063587e+00, -4.61317176e-01,  2.41791136e-02],\n",
       "       [-1.15596127e+00, -1.46093076e+00, -1.21369671e+00,\n",
       "        -1.11393982e+00,  7.06138239e-01, -1.26989168e+00],\n",
       "       [-1.15596127e+00, -9.16553519e-01, -6.46104030e-01,\n",
       "        -6.98734331e-01, -1.09567174e+00,  1.51735516e+00],\n",
       "       [ 5.51840807e-01,  1.72200964e-01,  1.12495945e+00,\n",
       "         1.10316439e+00, -9.05065169e-01,  6.21334806e-01],\n",
       "       [-3.02060231e-01, -9.16553519e-01, -5.84870412e-01,\n",
       "        -5.96534478e-01,  1.69178585e+00,  5.35876294e-01],\n",
       "       [-1.15596127e+00, -1.18874214e+00, -6.03429468e-01,\n",
       "        -5.18231591e-01,  2.26644814e-01,  1.56809230e-01],\n",
       "       [-3.02060231e-01, -3.72176277e-01,  7.11001342e-01,\n",
       "         7.13102759e-01, -1.04801831e+00, -1.46899694e+00],\n",
       "       [ 5.51840807e-01,  1.72200964e-01,  1.47917419e+00,\n",
       "         1.39925683e+00,  3.45774814e-01, -4.65466409e-01],\n",
       "       [ 1.40574185e+00,  1.53314407e+00, -8.38147244e-01,\n",
       "        -8.28760594e-01, -4.61317176e-01, -4.15613387e-01],\n",
       "       [-1.15596127e+00, -9.16553519e-01, -1.34599656e+00,\n",
       "        -1.38474541e+00, -2.03380173e+00,  4.22389632e-01],\n",
       "       [-3.02060231e-01, -6.44364898e-01,  2.28757789e-01,\n",
       "         2.68966953e-01,  4.50009097e-01, -4.81861744e-01],\n",
       "       [ 5.51840807e-01,  4.44389585e-01,  1.49197708e+00,\n",
       "         1.51489229e+00,  4.05336240e-01, -8.63623566e-01],\n",
       "       [-3.02060231e-01, -9.99876566e-02,  1.16336809e+00,\n",
       "         1.21520215e+00,  6.22746525e-01, -6.14651945e-01],\n",
       "       [ 1.40574185e+00,  1.26095545e+00, -8.46684204e-01,\n",
       "        -9.58695341e-01, -3.95794604e-01,  1.46766223e+00],\n",
       "       [-1.15596127e+00, -1.46093076e+00, -1.33745960e+00,\n",
       "        -1.31617176e+00, -8.89099491e-02, -4.50845346e-01],\n",
       "       [ 1.40574185e+00,  9.88766826e-01,  4.33603883e-01,\n",
       "         4.60531620e-01,  1.45961565e+00, -8.22094945e-01],\n",
       "       [ 1.40574185e+00,  7.16578206e-01,  8.09158469e-01,\n",
       "         8.21519942e-01,  6.22746525e-01, -3.99044628e-01],\n",
       "       [ 5.51840807e-01,  4.44389585e-01,  1.20177674e+00,\n",
       "         1.11405472e+00,  2.35579385e-01, -1.46071522e+00],\n",
       "       [ 5.51840807e-01, -9.99876566e-02,  1.39381995e+00,\n",
       "         1.43905460e+00,  7.47830523e-01, -2.91214289e-01],\n",
       "       [-1.15596127e+00, -9.16553519e-01, -1.02128477e+00,\n",
       "        -1.16552021e+00, -3.68604917e-01,  1.96451156e+00],\n",
       "       [ 1.40574185e+00,  1.53314407e+00, -1.14115046e+00,\n",
       "        -9.84005076e-01,  4.85747382e-01, -1.74280836e+00],\n",
       "       [ 1.40574185e+00,  9.88766826e-01,  3.95195240e-01,\n",
       "         4.85629726e-01,  3.21951673e-01, -2.24672444e-01],\n",
       "       [-1.15596127e+00, -1.46093076e+00, -8.08275562e-01,\n",
       "        -9.55074762e-01, -1.14034460e+00,  2.95272732e+00],\n",
       "       [ 1.40574185e+00,  9.88766826e-01, -1.33988795e-01,\n",
       "        -6.32969641e-02, -9.97391455e-01, -1.66695127e-01],\n",
       "       [-1.15596127e+00, -1.18874214e+00, -6.02686901e-01,\n",
       "        -5.21205842e-01,  5.51269954e-01, -9.18399190e-01],\n",
       "       [ 1.40574185e+00,  1.53314407e+00, -6.58906911e-01,\n",
       "        -5.72380125e-01,  1.61129390e-01, -1.33397524e-01],\n",
       "       [ 5.51840807e-01,  7.16578206e-01,  5.95775414e-01,\n",
       "         6.37390903e-01,  7.59745667e-01,  1.02793643e+00],\n",
       "       [-3.02060231e-01, -6.44364898e-01, -7.42403109e-02,\n",
       "        -1.83291548e-03,  4.88727955e-01,  4.30674011e-01],\n",
       "       [ 5.51840807e-01,  4.44389585e-01,  1.15056521e+00,\n",
       "         1.16467419e+00,  9.05672233e-01,  2.31622114e-01],\n",
       "       [ 5.51840807e-01,  7.16578206e-01,  1.35541131e+00,\n",
       "         1.39935407e+00,  1.08734423e+00,  5.63357489e-01],\n",
       "       [ 5.51840807e-01,  4.44389585e-01,  1.38528811e+00,\n",
       "         1.35959633e+00,  3.90447671e-01, -7.80526302e-01],\n",
       "       [-1.15596127e+00, -1.18874214e+00, -1.16675623e+00,\n",
       "        -1.13922668e+00,  2.33223022e+00, -4.40399824e-01],\n",
       "       [ 5.51840807e-01,  4.44389585e-01,  1.00120168e+00,\n",
       "         9.65988482e-01, -3.54311791e-02, -1.47755746e+00],\n",
       "       [ 1.40574185e+00,  1.26095545e+00, -6.03429468e-01,\n",
       "        -6.77142410e-01, -7.97850313e-01,  1.01970541e+00],\n",
       "       [-3.02060231e-01, -9.99876566e-02,  8.90241675e-01,\n",
       "         8.72042177e-01, -1.04801831e+00, -9.46494043e-01],\n",
       "       [-1.15596127e+00, -1.18874214e+00, -7.39990116e-01,\n",
       "        -6.41016695e-01,  1.07245566e+00, -1.36961106e+00],\n",
       "       [-1.15596127e+00, -1.18874214e+00, -1.39332625e+00,\n",
       "        -1.30823851e+00, -6.89820624e-01, -1.14115695e+00],\n",
       "       [-1.15596127e+00, -1.46093076e+00, -1.46122249e+00,\n",
       "        -1.51836937e+00, -4.67271175e-01, -9.94194526e-04],\n",
       "       [ 5.51840807e-01, -9.99876566e-02,  1.44503147e+00,\n",
       "         1.32709120e+00, -8.84215453e-01, -6.47896186e-01],\n",
       "       [ 5.51840807e-01,  1.72200964e-01,  1.46210539e+00,\n",
       "         1.45340537e+00, -8.90386069e-02, -9.04925401e-01],\n",
       "       [-1.15596127e+00,  1.53314407e+00, -1.06433318e+00,\n",
       "        -1.14299025e+00,  1.07245566e+00, -9.29938624e-01],\n",
       "       [ 1.40574185e+00,  1.53314407e+00, -4.41257936e-01,\n",
       "        -4.71352814e-01, -7.32327741e-01,  8.86915208e-01],\n",
       "       [-1.15596127e+00, -1.46093076e+00, -5.99158427e-01,\n",
       "        -4.49617900e-01,  1.45068108e+00, -4.48844289e-01],\n",
       "       [-3.02060231e-01, -6.44364898e-01,  1.11088141e-02,\n",
       "         8.46777616e-02, -2.40926319e-01, -3.49244968e-01],\n",
       "       [ 1.40574185e+00,  1.53314407e+00, -7.01581474e-01,\n",
       "        -5.93994925e-01,  3.39820816e-01, -1.17050580e+00],\n",
       "       [-1.15596127e+00, -9.16553519e-01,  4.93352367e-01,\n",
       "         5.18157741e-01, -1.66476323e-01, -5.89758784e-01],\n",
       "       [-1.15596127e+00, -9.16553519e-01, -4.91358170e-01,\n",
       "        -4.30714244e-01,  1.24117611e+00,  1.20403317e-01],\n",
       "       [ 1.40574185e+00,  1.53314407e+00,  6.84289422e-03,\n",
       "         8.10285839e-02,  2.47815678e+00,  5.13491127e-01],\n",
       "       [-1.15596127e+00, -1.18874214e+00, -1.21369671e+00,\n",
       "        -1.32335000e+00,  9.17587378e-01,  1.27673462e+00],\n",
       "       [-1.15596127e+00, -9.16553519e-01, -8.63753005e-01,\n",
       "        -7.99807401e-01, -1.30116688e+00, -9.79738285e-01],\n",
       "       [-1.15596127e+00,  1.53314407e+00, -8.29799765e-01,\n",
       "        -9.28077711e-01, -7.07339532e-01,  1.33229733e+00],\n",
       "       [-3.02060231e-01, -6.44364898e-01,  8.00621508e-01,\n",
       "         7.81859443e-01,  7.00177093e-01,  1.69178071e+00],\n",
       "       [ 1.40574185e+00,  9.88766826e-01,  4.59209645e-01,\n",
       "         5.00140641e-01,  8.10372522e-01,  3.97429770e-01],\n",
       "       [ 1.40574185e+00,  1.26095545e+00, -6.20498269e-01,\n",
       "        -5.25426991e-01, -1.60515177e-01, -1.88393897e+00],\n",
       "       [ 1.40574185e+00,  1.53314407e+00, -7.35724197e-01,\n",
       "        -5.94115039e-01,  4.35120527e-01, -1.77604860e+00],\n",
       "       [-3.02060231e-01, -3.72176277e-01,  1.05667913e+00,\n",
       "         9.91321097e-01,  1.54300737e+00,  2.64759632e-01],\n",
       "       [-1.15596127e+00, -1.46093076e+00, -3.64440651e-01,\n",
       "        -3.48424716e-01, -1.33094402e+00,  9.03483967e-01],\n",
       "       [ 5.51840807e-01, -9.99876566e-02,  1.38528811e+00,\n",
       "         1.20433469e+00, -4.88120890e-01, -1.91708351e-01],\n",
       "       [ 5.51840807e-01,  1.72200964e-01,  1.03533928e+00,\n",
       "         1.04177470e+00, -8.30846086e-02, -1.50193070e-01],\n",
       "       [-1.15596127e+00, -9.16553519e-01, -2.40677762e-01,\n",
       "        -1.64392912e-01,  1.31345103e-01, -4.40399824e-01],\n",
       "       [ 5.51840807e-01,  4.44389585e-01,  1.40662283e+00,\n",
       "         1.46074376e+00,  7.21026809e-01, -1.02965801e+00],\n",
       "       [-3.02060231e-01, -9.16553519e-01, -1.00031877e+00,\n",
       "        -1.05621647e+00, -1.49176630e+00,  2.06502167e-01],\n",
       "       [-1.15596127e+00, -1.18874214e+00, -3.17495048e-01,\n",
       "        -2.47448882e-01,  5.00643099e-01, -9.21090300e-02],\n",
       "       [ 5.51840807e-01,  1.72200964e-01,  1.33407659e+00,\n",
       "         1.29093688e+00,  1.49214245e-01, -3.16107449e-01],\n",
       "       [-3.02060231e-01, -9.16553519e-01, -1.06581831e+00,\n",
       "        -1.09758144e+00, -7.78816102e-01, -1.30622724e-01],\n",
       "       [ 1.40574185e+00,  9.88766826e-01, -5.35144022e-01,\n",
       "        -5.54334427e-01,  1.34942737e+00,  3.72483248e-01],\n",
       "       [ 1.40574185e+00,  1.53314407e+00, -1.00031877e+00,\n",
       "        -1.05983705e+00, -1.63495750e-01,  6.13210511e-01],\n",
       "       [-1.15596127e+00, -1.46093076e+00, -1.53785029e+00,\n",
       "        -1.45178046e+00, -4.64941039e-01, -9.01056689e-01],\n",
       "       [-1.15596127e+00, -9.16553519e-01, -1.11554470e+00,\n",
       "        -1.15001978e+00, -6.90635457e-01,  4.63798190e-01],\n",
       "       [ 1.40574185e+00,  9.88766826e-01, -3.98583374e-01,\n",
       "        -3.12441994e-01,  7.62719092e-01, -5.88647884e-02],\n",
       "       [ 5.51840807e-01,  4.44389585e-01,  1.26579114e+00,\n",
       "         1.21148434e+00, -1.34285916e+00, -9.13423226e-01],\n",
       "       [-3.02060231e-01, -6.44364898e-01, -4.24189136e-01,\n",
       "        -3.63009987e-01, -8.78261455e-01, -1.58464109e-01],\n",
       "       [-3.02060231e-01, -9.16553519e-01,  7.19538303e-01,\n",
       "         7.31171336e-01,  6.52530811e-01, -1.03776896e+00],\n",
       "       [ 5.51840807e-01,  1.72200964e-01,  1.48344011e+00,\n",
       "         1.51124312e+00,  3.72578528e-01,  2.31622114e-01],\n",
       "       [ 1.40574185e+00,  7.16578206e-01,  9.62793040e-01,\n",
       "         8.39702913e-01,  1.75445651e+00, -1.11247512e+00],\n",
       "       [ 5.51840807e-01,  4.44389585e-01,  1.44076555e+00,\n",
       "         1.56181683e+00,  1.07245566e+00,  9.86584879e-02],\n",
       "       [-1.15596127e+00, -9.16553519e-01,  5.31761010e-01,\n",
       "         5.75949733e-01,  1.04541389e-01,  5.71748592e-01],\n",
       "       [ 1.40574185e+00,  9.88766826e-01, -1.06006214e+00,\n",
       "        -1.22585175e+00,  1.99867051e+00,  2.09816888e+00],\n",
       "       [ 5.51840807e-01,  7.16578206e-01,  1.20604778e+00,\n",
       "         1.21884561e+00,  1.48344594e+00, -6.89304744e-01],\n",
       "       [-3.02060231e-01, -3.72176277e-01,  2.62900512e-01,\n",
       "         2.97805752e-01,  1.86167136e+00, -1.91654989e-01],\n",
       "       [ 1.40574185e+00,  1.53314407e+00, -9.53373171e-01,\n",
       "        -1.00564847e+00, -6.81700886e-01,  5.22002293e-01],\n",
       "       [ 1.40574185e+00,  1.53314407e+00, -1.03872742e+00,\n",
       "        -1.10311812e+00, -3.00494893e-01,  6.54685771e-01],\n",
       "       [ 1.40574185e+00,  1.26095545e+00, -7.57064038e-01,\n",
       "        -5.90442983e-01, -4.82159744e-01, -1.96692684e+00],\n",
       "       [ 1.40574185e+00,  1.26095545e+00, -9.23501490e-01,\n",
       "        -9.18966206e-01, -2.55822036e-01, -2.74525466e-01],\n",
       "       [ 1.40574185e+00,  1.53314407e+00, -9.19230449e-01,\n",
       "        -8.46754815e-01,  2.86213388e-01, -8.38610343e-01],\n",
       "       [-1.15596127e+00, -1.18874214e+00, -1.62246197e+00,\n",
       "        -1.67407715e+00, -1.18281597e+00,  3.71442698e-01],\n",
       "       [-1.15596127e+00, -9.16553519e-01,  3.39717797e-01,\n",
       "         4.71135970e-01, -2.52841463e-01,  3.30136497e+00],\n",
       "       [-1.15596127e+00, -9.16553519e-01, -3.69095779e-01,\n",
       "        -3.23538240e-01, -4.30913684e+00,  9.04284391e-01]])"
      ]
     },
     "execution_count": 38,
     "metadata": {},
     "output_type": "execute_result"
    }
   ],
   "source": [
    "X_test"
   ]
  }
 ],
 "metadata": {
  "kernelspec": {
   "display_name": "Python 3",
   "language": "python",
   "name": "python3"
  },
  "language_info": {
   "codemirror_mode": {
    "name": "ipython",
    "version": 3
   },
   "file_extension": ".py",
   "mimetype": "text/x-python",
   "name": "python",
   "nbconvert_exporter": "python",
   "pygments_lexer": "ipython3",
   "version": "3.7.6"
  }
 },
 "nbformat": 4,
 "nbformat_minor": 2
}
